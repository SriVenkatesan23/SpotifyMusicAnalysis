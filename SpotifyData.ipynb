{
 "cells": [
  {
   "cell_type": "code",
   "execution_count": 30,
   "metadata": {
    "collapsed": true
   },
   "outputs": [],
   "source": [
    "import pandas as pd\n",
    "import spotipy\n",
    "from spotipy.oauth2 import SpotifyClientCredentials \n",
    "import spotipy.util as util"
   ]
  },
  {
   "cell_type": "code",
   "execution_count": 99,
   "metadata": {
    "collapsed": true
   },
   "outputs": [],
   "source": [
    "import itertools"
   ]
  },
  {
   "cell_type": "code",
   "execution_count": 161,
   "metadata": {
    "collapsed": true
   },
   "outputs": [
    {
     "name": "stdout",
     "output_type": "stream",
     "text": [
      "\n",
      "\n",
      "            User authentication requires interaction with your\n",
      "            web browser. Once you enter your credentials and\n",
      "            give authorization, you will be redirected to\n",
      "            a url.  Paste that url you were directed to to\n",
      "            complete the authorization.\n",
      "\n",
      "        \n",
      "Opened https://accounts.spotify.com/authorize?redirect_uri=http%3A%2F%2Flocalhost%2F&response_type=code&client_id=3f6c3b230e4a49b38c70cb8e5e2b827f in your browser\n",
      "\n",
      "\n",
      "Enter the URL you were redirected to: dsf\n",
      "\n",
      "\n"
     ]
    },
    {
     "ename": "SpotifyOauthError",
     "evalue": "Bad Request",
     "output_type": "error",
     "traceback": [
      "\u001b[0;31m---------------------------------------------------------------------------\u001b[0m",
      "\u001b[0;31mSpotifyOauthError\u001b[0m                         Traceback (most recent call last)",
      "\u001b[0;32m<ipython-input-161-682f7da741c6>\u001b[0m in \u001b[0;36m<module>\u001b[0;34m()\u001b[0m\n\u001b[1;32m      7\u001b[0m \u001b[0;34m\u001b[0m\u001b[0m\n\u001b[1;32m      8\u001b[0m \u001b[0;34m\u001b[0m\u001b[0m\n\u001b[0;32m----> 9\u001b[0;31m \u001b[0mtoken\u001b[0m \u001b[0;34m=\u001b[0m \u001b[0mutil\u001b[0m\u001b[0;34m.\u001b[0m\u001b[0mprompt_for_user_token\u001b[0m\u001b[0;34m(\u001b[0m\u001b[0musername\u001b[0m\u001b[0;34m,\u001b[0m \u001b[0mclient_id\u001b[0m\u001b[0;34m=\u001b[0m\u001b[0mcid\u001b[0m\u001b[0;34m,\u001b[0m \u001b[0mclient_secret\u001b[0m\u001b[0;34m=\u001b[0m\u001b[0msecret\u001b[0m\u001b[0;34m,\u001b[0m \u001b[0mredirect_uri\u001b[0m\u001b[0;34m=\u001b[0m\u001b[0;34m'http://localhost/'\u001b[0m\u001b[0;34m)\u001b[0m\u001b[0;34m\u001b[0m\u001b[0m\n\u001b[0m\u001b[1;32m     10\u001b[0m \u001b[0;34m\u001b[0m\u001b[0m\n\u001b[1;32m     11\u001b[0m \u001b[0;34m\u001b[0m\u001b[0m\n",
      "\u001b[0;32m/Users/mihirtrivedi/anaconda2/lib/python2.7/site-packages/spotipy/util.pyc\u001b[0m in \u001b[0;36mprompt_for_user_token\u001b[0;34m(username, scope, client_id, client_secret, redirect_uri)\u001b[0m\n\u001b[1;32m     84\u001b[0m \u001b[0;34m\u001b[0m\u001b[0m\n\u001b[1;32m     85\u001b[0m         \u001b[0mcode\u001b[0m \u001b[0;34m=\u001b[0m \u001b[0msp_oauth\u001b[0m\u001b[0;34m.\u001b[0m\u001b[0mparse_response_code\u001b[0m\u001b[0;34m(\u001b[0m\u001b[0mresponse\u001b[0m\u001b[0;34m)\u001b[0m\u001b[0;34m\u001b[0m\u001b[0m\n\u001b[0;32m---> 86\u001b[0;31m         \u001b[0mtoken_info\u001b[0m \u001b[0;34m=\u001b[0m \u001b[0msp_oauth\u001b[0m\u001b[0;34m.\u001b[0m\u001b[0mget_access_token\u001b[0m\u001b[0;34m(\u001b[0m\u001b[0mcode\u001b[0m\u001b[0;34m)\u001b[0m\u001b[0;34m\u001b[0m\u001b[0m\n\u001b[0m\u001b[1;32m     87\u001b[0m     \u001b[0;31m# Auth'ed API request\u001b[0m\u001b[0;34m\u001b[0m\u001b[0;34m\u001b[0m\u001b[0m\n\u001b[1;32m     88\u001b[0m     \u001b[0;32mif\u001b[0m \u001b[0mtoken_info\u001b[0m\u001b[0;34m:\u001b[0m\u001b[0;34m\u001b[0m\u001b[0m\n",
      "\u001b[0;32m/Users/mihirtrivedi/anaconda2/lib/python2.7/site-packages/spotipy/oauth2.pyc\u001b[0m in \u001b[0;36mget_access_token\u001b[0;34m(self, code)\u001b[0m\n\u001b[1;32m    215\u001b[0m             headers=headers, verify=True, proxies=self.proxies)\n\u001b[1;32m    216\u001b[0m         \u001b[0;32mif\u001b[0m \u001b[0mresponse\u001b[0m\u001b[0;34m.\u001b[0m\u001b[0mstatus_code\u001b[0m \u001b[0;32mis\u001b[0m \u001b[0;32mnot\u001b[0m \u001b[0;36m200\u001b[0m\u001b[0;34m:\u001b[0m\u001b[0;34m\u001b[0m\u001b[0m\n\u001b[0;32m--> 217\u001b[0;31m             \u001b[0;32mraise\u001b[0m \u001b[0mSpotifyOauthError\u001b[0m\u001b[0;34m(\u001b[0m\u001b[0mresponse\u001b[0m\u001b[0;34m.\u001b[0m\u001b[0mreason\u001b[0m\u001b[0;34m)\u001b[0m\u001b[0;34m\u001b[0m\u001b[0m\n\u001b[0m\u001b[1;32m    218\u001b[0m         \u001b[0mtoken_info\u001b[0m \u001b[0;34m=\u001b[0m \u001b[0mresponse\u001b[0m\u001b[0;34m.\u001b[0m\u001b[0mjson\u001b[0m\u001b[0;34m(\u001b[0m\u001b[0;34m)\u001b[0m\u001b[0;34m\u001b[0m\u001b[0m\n\u001b[1;32m    219\u001b[0m         \u001b[0mtoken_info\u001b[0m \u001b[0;34m=\u001b[0m \u001b[0mself\u001b[0m\u001b[0;34m.\u001b[0m\u001b[0m_add_custom_values_to_token_info\u001b[0m\u001b[0;34m(\u001b[0m\u001b[0mtoken_info\u001b[0m\u001b[0;34m)\u001b[0m\u001b[0;34m\u001b[0m\u001b[0m\n",
      "\u001b[0;31mSpotifyOauthError\u001b[0m: Bad Request"
     ]
    }
   ],
   "source": [
    "##Setting up credentials\n",
    "sp = spotipy.Spotify() \n",
    "cid =\"3f6c3b230e4a49b38c70cb8e5e2b827f\" \n",
    "secret = \"f8dbc1bbf5e24607ac402d8d8da5a56\" \n",
    "username = \"sunsfan215\"\n",
    "redirect_uri = \"http://localhost\"\n",
    "client_credentials_manager = SpotifyClientCredentials(client_id=cid, client_secret=secret)\n",
    "\n",
    "\n",
    "token = util.prompt_for_user_token(username, client_id=cid, client_secret=secret, redirect_uri='http://localhost/')\n",
    "###This token never worked for me so I ended up making requests through postman\n",
    "\n",
    "\n",
    "\n"
   ]
  },
  {
   "cell_type": "code",
   "execution_count": 178,
   "metadata": {
    "collapsed": true
   },
   "outputs": [],
   "source": [
    "####Creating Keys for playlists\n",
    "\n",
    "rapList = [(\"zzacharymattson\", \"4pCLzyVRnWpOivB6RwPREo\"), (\"xduckst3rx\", \"0LsY9O5vMlrIX53GDODfBG\"), \n",
    "          (\"ruinwizard7\", \"2SIq4uFAGGzq5tlTBkYN6Y\")]\n",
    "\n",
    "rockList = [(\"diaperblast\", \"1bD1KcI6Zbim90GUzZx6Ug\"), (\"robizard\",\"1UtCP9QUEd3mUNMbmi6UDo\"), \n",
    "           (\"bklimfjord\", \"79nJOrTljcQIrRXnn7kFpQ\")]\n",
    "\n",
    "popList = [(\"evan27309\", \"6pv75Rri5UysKxaiMySlh5\"), (\"1126992078\", \"3cqW3anXmlCrmKAksZ4xfE\"),\n",
    "          (\"1129642979\",\"2YzOK8VibyyDB53sLhZlRF\"), (\"22uxfrqbmolloesf7v2kzxwia\",\"3tRGlHAhW7H4mFMLSzs8jx\"),\n",
    "          (\"laurencasertaa\", \"3bUxVGjXL36QheBmOXBqqY\")]\n",
    "\n",
    "jazzList = [(\"vmlondon\", \"6k1N0TX2TGeeWPBKsaj1Hz\"), (\"friendsofthepublicgarden\", \"7w20EDPLPSY5lcALralt5V\")]\n",
    "\n",
    "metalList = [(\"1293395491\", \"5wvcQlInBzE2jYUjvWAMMW\")]\n",
    "\n",
    "countryList = [(\"12121046255\", \"4nVVXmOOmFrWAAz1TOcxFY\"), (\"bdqn3lndsz5slw26k4jajaaqv\", \"3Z60qXumuVSqNJInmOZC1A\"),\n",
    "              (\"1223106335\", \"41iNalDjtI0m9zFeNMODZ9\")]\n",
    "\n",
    "bluesList = [(\"bomberpeter\", \"4RMYFHGSYgD4sAHff0Nr0j\")]\n",
    "\n",
    "electricList = [(\"sydgi3ysyt01ra7s6pii8dd9i\", \"7Aq8eQ10n9yKJcOXJ4tbKI\")]\n",
    "\n",
    "indieList = [(\"11121287154\", \"0MSCX9tZWQmitMQsfhvZIl\")]"
   ]
  },
  {
   "cell_type": "code",
   "execution_count": 179,
   "metadata": {},
   "outputs": [],
   "source": [
    "##Authorizing - will need to change token\n",
    "token = \"BQBfhjIfWUX9wVghMgAx4ifWMMBhUb4-QlIawY9b3HZB_evKj9UExI6OnfwToQJJLQY4DkNfWbx-T8xgrApKFxubZqbAfuUYvSPbV-tyMs2M2mzXHE4-L0G_C2gXyusbNV-FLDfxxGqScUuukg\"\n",
    "sp = spotipy.Spotify(auth=token)\n"
   ]
  },
  {
   "cell_type": "code",
   "execution_count": 180,
   "metadata": {},
   "outputs": [],
   "source": [
    "##Getting all the tracks in a playlist\n",
    "def tracks(musicList, sp):\n",
    "    \n",
    "    overallList = []\n",
    "    for tup in musicList:\n",
    "        results = sp.user_playlist_tracks(tup[0], tup[1])\n",
    "        tracks = results['items']\n",
    "        while results['next']:\n",
    "            results = sp.next(results)\n",
    "            tracks.extend(results['items'])\n",
    "        overallList.append(tracks)\n",
    "    return overallList\n"
   ]
  },
  {
   "cell_type": "code",
   "execution_count": 181,
   "metadata": {
    "collapsed": true
   },
   "outputs": [],
   "source": [
    "##Testing to see if this works\n",
    "rapTrackList = tracks(rapList, sp)"
   ]
  },
  {
   "cell_type": "code",
   "execution_count": 182,
   "metadata": {},
   "outputs": [],
   "source": [
    "rockTrackList = tracks(rockList, sp)"
   ]
  },
  {
   "cell_type": "code",
   "execution_count": 183,
   "metadata": {
    "collapsed": true
   },
   "outputs": [],
   "source": [
    "###Iterating on all the genres\n",
    "popTrackList = tracks(popList, sp)\n",
    "jazzTrackList = tracks(jazzList, sp)\n",
    "metalTrackList = tracks(metalList, sp)\n",
    "countryTrackList = tracks(countryList, sp)\n",
    "bluesTrackList = tracks(bluesList, sp)\n",
    "electricTrackList = tracks(electricList, sp)"
   ]
  },
  {
   "cell_type": "code",
   "execution_count": 184,
   "metadata": {},
   "outputs": [],
   "source": [
    "##Flattening out the list\n",
    "rapTrackList = list(itertools.chain.from_iterable(rapTrackList))\n",
    "rockTrackList = list(itertools.chain.from_iterable(rockTrackList))\n",
    "popTrackList = list(itertools.chain.from_iterable(popTrackList))\n",
    "jazzTrackList = list(itertools.chain.from_iterable(jazzTrackList))\n",
    "metalTrackList = list(itertools.chain.from_iterable(metalTrackList))\n",
    "countryTrackList = list(itertools.chain.from_iterable(countryTrackList))\n",
    "bluesTrackList = list(itertools.chain.from_iterable(bluesTrackList))\n",
    "electricTrackList = list(itertools.chain.from_iterable(electricTrackList))"
   ]
  },
  {
   "cell_type": "code",
   "execution_count": 185,
   "metadata": {},
   "outputs": [],
   "source": [
    "###Getting the audio features from multiple ids\n",
    "def featuresRet(musicList, sp):\n",
    "    \n",
    "    ids = [] \n",
    "    for i in range(len(musicList)): \n",
    "        if(musicList[i][\"track\"] != None):\n",
    "            ids.append(musicList[i][\"track\"][\"id\"])  \n",
    "        \n",
    "    start = 0\n",
    "    end = 99\n",
    "    ovFeatures = []\n",
    "    while (end<len(musicList)):\n",
    "        try:\n",
    "            features = sp.audio_features(ids[start:end])\n",
    "        except:\n",
    "            print('error')\n",
    "        start = end + 1\n",
    "        end = start + 99\n",
    "        ovFeatures.append(features)\n",
    "    if (start<len(musicList)):\n",
    "        end = len(musicList) - 1\n",
    "        features = sp.audio_features(ids[start:end])\n",
    "    ovFeatures.append(features)\n",
    "    return(ovFeatures)\n",
    "    \n",
    "    "
   ]
  },
  {
   "cell_type": "code",
   "execution_count": 186,
   "metadata": {},
   "outputs": [],
   "source": [
    "##doing this for all genre lists\n",
    "rapFeatures = featuresRet(rapTrackList, sp) "
   ]
  },
  {
   "cell_type": "code",
   "execution_count": 187,
   "metadata": {},
   "outputs": [],
   "source": [
    "popFeatures = featuresRet(popTrackList, sp)"
   ]
  },
  {
   "cell_type": "code",
   "execution_count": 188,
   "metadata": {
    "collapsed": true
   },
   "outputs": [],
   "source": [
    "jazzFeatures = featuresRet(jazzTrackList, sp)"
   ]
  },
  {
   "cell_type": "code",
   "execution_count": 189,
   "metadata": {},
   "outputs": [
    {
     "data": {
      "text/plain": [
       "False"
      ]
     },
     "execution_count": 189,
     "metadata": {},
     "output_type": "execute_result"
    }
   ],
   "source": [
    "##Some songs didn't have track information and will be reomved\n",
    "metalTrackList[2560][\"track\"] != None"
   ]
  },
  {
   "cell_type": "code",
   "execution_count": 190,
   "metadata": {},
   "outputs": [
    {
     "name": "stdout",
     "output_type": "stream",
     "text": [
      "error\n",
      "error\n",
      "error\n",
      "error\n",
      "error\n"
     ]
    }
   ],
   "source": [
    "metalFeatures = featuresRet(metalTrackList, sp) "
   ]
  },
  {
   "cell_type": "code",
   "execution_count": 191,
   "metadata": {},
   "outputs": [],
   "source": [
    "countryFeatures = featuresRet(countryTrackList, sp)"
   ]
  },
  {
   "cell_type": "code",
   "execution_count": 192,
   "metadata": {
    "collapsed": true
   },
   "outputs": [],
   "source": [
    "bluesFeatures = featuresRet(bluesTrackList, sp)"
   ]
  },
  {
   "cell_type": "code",
   "execution_count": 193,
   "metadata": {
    "collapsed": true
   },
   "outputs": [],
   "source": [
    "electricFeatures = featuresRet(electricTrackList, sp)"
   ]
  },
  {
   "cell_type": "code",
   "execution_count": 194,
   "metadata": {},
   "outputs": [],
   "source": [
    "rockFeatures = featuresRet(rockTrackList, sp)"
   ]
  },
  {
   "cell_type": "code",
   "execution_count": 195,
   "metadata": {},
   "outputs": [],
   "source": [
    "rapFeatures = list(itertools.chain.from_iterable(rapFeatures))"
   ]
  },
  {
   "cell_type": "code",
   "execution_count": 196,
   "metadata": {},
   "outputs": [],
   "source": [
    "##Flattening out the lists\n",
    "rockFeatures = list(itertools.chain.from_iterable(rockFeatures))\n",
    "popFeatures = list(itertools.chain.from_iterable(popFeatures))\n",
    "jazzFeatures = list(itertools.chain.from_iterable(jazzFeatures))\n",
    "metalFeatures = list(itertools.chain.from_iterable(metalFeatures))\n",
    "countryFeatures = list(itertools.chain.from_iterable(countryFeatures))\n",
    "bluesFeatures = list(itertools.chain.from_iterable(bluesFeatures))\n",
    "electricFeatures = list(itertools.chain.from_iterable(electricFeatures))"
   ]
  },
  {
   "cell_type": "code",
   "execution_count": 271,
   "metadata": {},
   "outputs": [],
   "source": [
    "###Making them into dataframes\n",
    "rockFeaturesDf = pd.DataFrame(rockFeatures)\n",
    "popFeaturesDf = pd.DataFrame(popFeatures)\n",
    "rapFeaturesDf = pd.DataFrame(rapFeatures)\n",
    "jazzFeaturesDf = pd.DataFrame(jazzFeatures)\n",
    "metalFeaturesDf = pd.DataFrame(metalFeatures)\n",
    "countryFeaturesDf = pd.DataFrame(countryFeatures)\n",
    "bluesFeaturesDf = pd.DataFrame(bluesFeatures)\n",
    "electricFeaturesDf = pd.DataFrame(electricFeatures)"
   ]
  },
  {
   "cell_type": "code",
   "execution_count": 263,
   "metadata": {},
   "outputs": [],
   "source": [
    "##Forgot to get the artist name, release date, song name, and popularity\n",
    "##This function creates a dataframe for that information\n",
    "def createInfoDf(musicList):\n",
    "    ids = []\n",
    "    songName = []\n",
    "    artistName = []\n",
    "    popularity = []\n",
    "    releaseDate = []\n",
    "    \n",
    "    for i in range(0, len(musicList)):\n",
    "    \n",
    "        try:\n",
    "            ids.append(musicList[i][\"track\"][\"id\"])\n",
    "            songName.append(musicList[i][\"track\"][\"name\"])\n",
    "            artistName.append(musicList[i][\"track\"][\"artists\"][0][\"name\"])\n",
    "            popularity.append(musicList[i][\"track\"][\"popularity\"])\n",
    "            releaseDate.append(musicList[i][\"track\"][\"album\"][\"release_date\"])\n",
    "        except:\n",
    "            print(\"error\")\n",
    "        \n",
    "    df = pd.DataFrame({'id': ids, 'artist':artistName, 'name':songName, 'popularity':popularity, 'date':releaseDate})\n",
    "    return(df)  \n",
    "    "
   ]
  },
  {
   "cell_type": "code",
   "execution_count": 296,
   "metadata": {},
   "outputs": [
    {
     "name": "stdout",
     "output_type": "stream",
     "text": [
      "error\n"
     ]
    }
   ],
   "source": [
    "##Iterating through and doing this\n",
    "rapInfoDf = createInfoDf(rapTrackList)\n",
    "rockInfoDf = createInfoDf(rockTrackList)\n",
    "popInfoDf = createInfoDf(popTrackList)\n",
    "jazzInfoDf = createInfoDf(jazzTrackList)\n",
    "countryInfoDf = createInfoDf(countryTrackList)\n",
    "bluesInfoDf = createInfoDf(bluesTrackList)\n",
    "electricInfoDf = createInfoDf(electricTrackList)\n",
    "metalInfoDf = createInfoDf(metalTrackList)"
   ]
  },
  {
   "cell_type": "code",
   "execution_count": 297,
   "metadata": {},
   "outputs": [],
   "source": [
    "###Labeling genre data\n",
    "rapFeaturesDf['genre'] = [\"rap\"] * len(rapFeaturesDf)\n",
    "rockFeaturesDf['genre'] = [\"rock\"] * len(rockFeaturesDf)\n",
    "popFeaturesDf['genre'] = [\"pop\"] * len(popFeaturesDf)\n",
    "jazzFeaturesDf['genre'] = [\"jazz\"] * len(jazzFeaturesDf)\n",
    "bluesFeaturesDf['genre'] = [\"blues\"] * len(bluesFeaturesDf)\n",
    "countryFeaturesDf['genre'] = [\"country\"] * len(countryFeaturesDf)\n",
    "electricFeaturesDf['genre'] = [\"electric\"] * len(electricFeaturesDf)\n",
    "metalFeaturesDf['genre'] = [\"metal\"] *len(metalFeaturesDf)"
   ]
  },
  {
   "cell_type": "code",
   "execution_count": 298,
   "metadata": {},
   "outputs": [],
   "source": [
    "##Concatenating dataframes\n",
    "features = pd.concat([rapFeaturesDf, rockFeaturesDf, popFeaturesDf, jazzFeaturesDf, bluesFeaturesDf, countryFeaturesDf, electricFeaturesDf,metalFeaturesDf])"
   ]
  },
  {
   "cell_type": "code",
   "execution_count": 299,
   "metadata": {},
   "outputs": [],
   "source": [
    "info = pd.concat([rapInfoDf, rockInfoDf, popInfoDf, jazzInfoDf, bluesInfoDf, countryInfoDf, electricInfoDf, metalInfoDf])"
   ]
  },
  {
   "cell_type": "code",
   "execution_count": 300,
   "metadata": {},
   "outputs": [],
   "source": [
    "##Merging Info\n",
    "spotifySongData = pd.merge(features, info, on=\"id\")"
   ]
  },
  {
   "cell_type": "code",
   "execution_count": 304,
   "metadata": {},
   "outputs": [],
   "source": [
    "##Getting rid of duplicates\n",
    "spotifySongData = spotifySongData.drop_duplicates(subset = \"id\", keep=\"first\")"
   ]
  },
  {
   "cell_type": "code",
   "execution_count": 309,
   "metadata": {},
   "outputs": [],
   "source": [
    "##Exporting to csv\n",
    "spotifySongData.to_csv('spotifySongData.csv', encoding = 'utf-8')"
   ]
  }
 ],
 "metadata": {
  "kernelspec": {
   "display_name": "Python 2",
   "language": "python",
   "name": "python2"
  },
  "language_info": {
   "codemirror_mode": {
    "name": "ipython",
    "version": 2
   },
   "file_extension": ".py",
   "mimetype": "text/x-python",
   "name": "python",
   "nbconvert_exporter": "python",
   "pygments_lexer": "ipython2",
   "version": "2.7.14"
  }
 },
 "nbformat": 4,
 "nbformat_minor": 2
}
